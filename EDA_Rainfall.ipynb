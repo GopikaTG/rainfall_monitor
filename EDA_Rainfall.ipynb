{
 "cells": [
  {
   "cell_type": "code",
   "execution_count": 1,
   "id": "d48e999f",
   "metadata": {},
   "outputs": [],
   "source": [
    "import numpy as np\n",
    "import pandas as pd\n",
    "from os.path import join\n",
    "from scipy.io.wavfile import write\n",
    "import matplotlib.pyplot as plt"
   ]
  },
  {
   "cell_type": "code",
   "execution_count": 2,
   "id": "8258270d",
   "metadata": {},
   "outputs": [],
   "source": [
    "RECORDING_DIR = \"recordings\"\n",
    "OUTPUT_DIR = \"output_wav\"\n",
    "MECH_READINGS_FILE = \"mechanical_sensor.csv\"\n",
    "SOUND_READINGS_FILE = \"sound_sensor.csv\""
   ]
  },
  {
   "cell_type": "code",
   "execution_count": 3,
   "id": "d8ded65b",
   "metadata": {},
   "outputs": [],
   "source": [
    "mech_cols = [\"date\", \"time\", \"x1\", \"rainfall (mm)\"]\n",
    "mech_cols_desired = [\"datetime\", \"x1\", \"rainfall (mm)\"]\n",
    "sound_cols = [\"date\", \"time\", \"sound\", \"loudness\"]\n",
    "sound_cols_desired = [\"datetime\", \"sound\", \"loudness\"]\n",
    "col_names = [\"raw_audio\", \"filtered_audio\"]"
   ]
  },
  {
   "cell_type": "code",
   "execution_count": 20,
   "id": "27241659",
   "metadata": {},
   "outputs": [],
   "source": [
    "mech_file_path = join(RECORDING_DIR, MECH_READINGS_FILE)\n",
    "mech_data = pd.read_csv(mech_file_path, names=mech_cols)\n",
    "\n",
    "sound_file_path = join(RECORDING_DIR, SOUND_READINGS_FILE)\n",
    "sound_data = pd.read_csv(sound_file_path, names=sound_cols)"
   ]
  },
  {
   "cell_type": "code",
   "execution_count": 21,
   "id": "48482a52",
   "metadata": {},
   "outputs": [],
   "source": [
    "cutoff_value = 0.28"
   ]
  },
  {
   "cell_type": "code",
   "execution_count": 22,
   "id": "db926f9d",
   "metadata": {},
   "outputs": [],
   "source": [
    "def process_mech_data(df):\n",
    "    df[\"datetime\"] = df[\"date\"]+\" \"+df[\"time\"]\n",
    "    df[\"datetime\"] = pd.to_datetime(df[\"datetime\"])\n",
    "    df = df.drop([\"date\", \"time\"], axis=1)\n",
    "    df = df[mech_cols_desired]\n",
    "    df[\"rainfall (mm)\"] = df[\"rainfall (mm)\"].str.split(\" \").str[1]\n",
    "    df[\"rainfall (mm)\"] = df[\"rainfall (mm)\"].astype(float)\n",
    "    df = df[df[\"rainfall (mm)\"]>cutoff_value]\n",
    "    return df"
   ]
  },
  {
   "cell_type": "code",
   "execution_count": 23,
   "id": "5953b8cc",
   "metadata": {},
   "outputs": [],
   "source": [
    "def process_sound_data(df):\n",
    "    df[\"time\"] = df[\"time\"].str.split(\":\").str[:-1].str.join(\":\")\n",
    "    df[\"date\"] = df[\"date\"].str.split(\"/\").str[::-1].str.join(\"-\")\n",
    "    df[\"datetime\"] = df[\"date\"]+\" \"+df[\"time\"]\n",
    "    df[\"datetime\"] = pd.to_datetime(df[\"datetime\"])\n",
    "    df = df.drop([\"date\", \"time\"], axis=1)\n",
    "    df = df[sound_cols_desired]\n",
    "    df[\"sound\"] = df[\"sound\"].astype(float)\n",
    "    df[\"loudness\"] = df[\"loudness\"].astype(float)\n",
    "    return df"
   ]
  },
  {
   "cell_type": "code",
   "execution_count": 24,
   "id": "6bcd80d1",
   "metadata": {},
   "outputs": [],
   "source": [
    "mech_data = process_mech_data(mech_data)\n",
    "sound_data = process_sound_data(sound_data)"
   ]
  },
  {
   "cell_type": "code",
   "execution_count": 25,
   "id": "4e25e545",
   "metadata": {},
   "outputs": [],
   "source": [
    "timepoints = list(set(sound_data[\"datetime\"]).intersection(mech_data[\"datetime\"]))\n",
    "sound_data = sound_data.loc[sound_data[\"datetime\"].isin(timepoints)]\n",
    "mech_data = mech_data.loc[mech_data[\"datetime\"].isin(timepoints)]"
   ]
  },
  {
   "cell_type": "code",
   "execution_count": 26,
   "id": "bbdea487",
   "metadata": {},
   "outputs": [],
   "source": [
    "data_merged = pd.merge(mech_data, sound_data, on=\"datetime\", how=\"inner\")"
   ]
  },
  {
   "cell_type": "code",
   "execution_count": 27,
   "id": "e15e1bca",
   "metadata": {},
   "outputs": [
    {
     "data": {
      "text/html": [
       "<div>\n",
       "<style scoped>\n",
       "    .dataframe tbody tr th:only-of-type {\n",
       "        vertical-align: middle;\n",
       "    }\n",
       "\n",
       "    .dataframe tbody tr th {\n",
       "        vertical-align: top;\n",
       "    }\n",
       "\n",
       "    .dataframe thead th {\n",
       "        text-align: right;\n",
       "    }\n",
       "</style>\n",
       "<table border=\"1\" class=\"dataframe\">\n",
       "  <thead>\n",
       "    <tr style=\"text-align: right;\">\n",
       "      <th></th>\n",
       "      <th>datetime</th>\n",
       "      <th>x1</th>\n",
       "      <th>rainfall (mm)</th>\n",
       "      <th>sound</th>\n",
       "      <th>loudness</th>\n",
       "    </tr>\n",
       "  </thead>\n",
       "  <tbody>\n",
       "    <tr>\n",
       "      <th>0</th>\n",
       "      <td>2023-10-03 22:52:00</td>\n",
       "      <td>2</td>\n",
       "      <td>0.56</td>\n",
       "      <td>378.0</td>\n",
       "      <td>137.0</td>\n",
       "    </tr>\n",
       "    <tr>\n",
       "      <th>1</th>\n",
       "      <td>2023-10-03 22:53:00</td>\n",
       "      <td>2</td>\n",
       "      <td>0.56</td>\n",
       "      <td>360.0</td>\n",
       "      <td>128.0</td>\n",
       "    </tr>\n",
       "    <tr>\n",
       "      <th>2</th>\n",
       "      <td>2023-10-03 23:29:00</td>\n",
       "      <td>4</td>\n",
       "      <td>1.12</td>\n",
       "      <td>380.0</td>\n",
       "      <td>141.0</td>\n",
       "    </tr>\n",
       "    <tr>\n",
       "      <th>3</th>\n",
       "      <td>2023-10-04 02:38:00</td>\n",
       "      <td>3</td>\n",
       "      <td>0.84</td>\n",
       "      <td>388.0</td>\n",
       "      <td>142.0</td>\n",
       "    </tr>\n",
       "    <tr>\n",
       "      <th>4</th>\n",
       "      <td>2023-10-04 02:39:00</td>\n",
       "      <td>3</td>\n",
       "      <td>0.84</td>\n",
       "      <td>390.0</td>\n",
       "      <td>141.0</td>\n",
       "    </tr>\n",
       "    <tr>\n",
       "      <th>5</th>\n",
       "      <td>2023-10-04 02:40:00</td>\n",
       "      <td>4</td>\n",
       "      <td>1.12</td>\n",
       "      <td>388.0</td>\n",
       "      <td>147.0</td>\n",
       "    </tr>\n",
       "    <tr>\n",
       "      <th>6</th>\n",
       "      <td>2023-10-04 02:41:00</td>\n",
       "      <td>2</td>\n",
       "      <td>0.56</td>\n",
       "      <td>396.0</td>\n",
       "      <td>139.0</td>\n",
       "    </tr>\n",
       "  </tbody>\n",
       "</table>\n",
       "</div>"
      ],
      "text/plain": [
       "             datetime  x1  rainfall (mm)  sound  loudness\n",
       "0 2023-10-03 22:52:00   2           0.56  378.0     137.0\n",
       "1 2023-10-03 22:53:00   2           0.56  360.0     128.0\n",
       "2 2023-10-03 23:29:00   4           1.12  380.0     141.0\n",
       "3 2023-10-04 02:38:00   3           0.84  388.0     142.0\n",
       "4 2023-10-04 02:39:00   3           0.84  390.0     141.0\n",
       "5 2023-10-04 02:40:00   4           1.12  388.0     147.0\n",
       "6 2023-10-04 02:41:00   2           0.56  396.0     139.0"
      ]
     },
     "execution_count": 27,
     "metadata": {},
     "output_type": "execute_result"
    }
   ],
   "source": [
    "data_merged"
   ]
  },
  {
   "cell_type": "code",
   "execution_count": 28,
   "id": "a0f36d35",
   "metadata": {},
   "outputs": [
    {
     "data": {
      "text/plain": [
       "<Axes: xlabel='rainfall (mm)', ylabel='loudness'>"
      ]
     },
     "execution_count": 28,
     "metadata": {},
     "output_type": "execute_result"
    },
    {
     "data": {
      "image/png": "[encoded data removed]",
      "text/plain": [
       "<Figure size 1000x300 with 1 Axes>"
      ]
     },
     "metadata": {},
     "output_type": "display_data"
    }
   ],
   "source": [
    "data_merged.plot(x=\"rainfall (mm)\", y=\"loudness\", kind='scatter', rot=45, figsize=(10,3))"
   ]
  },
  {
   "cell_type": "code",
   "execution_count": 29,
   "id": "d6180862",
   "metadata": {},
   "outputs": [
    {
     "data": {
      "text/html": [
       "<div>\n",
       "<style scoped>\n",
       "    .dataframe tbody tr th:only-of-type {\n",
       "        vertical-align: middle;\n",
       "    }\n",
       "\n",
       "    .dataframe tbody tr th {\n",
       "        vertical-align: top;\n",
       "    }\n",
       "\n",
       "    .dataframe thead th {\n",
       "        text-align: right;\n",
       "    }\n",
       "</style>\n",
       "<table border=\"1\" class=\"dataframe\">\n",
       "  <thead>\n",
       "    <tr style=\"text-align: right;\">\n",
       "      <th></th>\n",
       "      <th>datetime</th>\n",
       "      <th>x1</th>\n",
       "      <th>rainfall (mm)</th>\n",
       "      <th>sound</th>\n",
       "      <th>loudness</th>\n",
       "    </tr>\n",
       "  </thead>\n",
       "  <tbody>\n",
       "    <tr>\n",
       "      <th>datetime</th>\n",
       "      <td>1.000000</td>\n",
       "      <td>0.273382</td>\n",
       "      <td>0.273382</td>\n",
       "      <td>0.838586</td>\n",
       "      <td>0.677839</td>\n",
       "    </tr>\n",
       "    <tr>\n",
       "      <th>x1</th>\n",
       "      <td>0.273382</td>\n",
       "      <td>1.000000</td>\n",
       "      <td>1.000000</td>\n",
       "      <td>0.265357</td>\n",
       "      <td>0.737172</td>\n",
       "    </tr>\n",
       "    <tr>\n",
       "      <th>rainfall (mm)</th>\n",
       "      <td>0.273382</td>\n",
       "      <td>1.000000</td>\n",
       "      <td>1.000000</td>\n",
       "      <td>0.265357</td>\n",
       "      <td>0.737172</td>\n",
       "    </tr>\n",
       "    <tr>\n",
       "      <th>sound</th>\n",
       "      <td>0.838586</td>\n",
       "      <td>0.265357</td>\n",
       "      <td>0.265357</td>\n",
       "      <td>1.000000</td>\n",
       "      <td>0.789777</td>\n",
       "    </tr>\n",
       "    <tr>\n",
       "      <th>loudness</th>\n",
       "      <td>0.677839</td>\n",
       "      <td>0.737172</td>\n",
       "      <td>0.737172</td>\n",
       "      <td>0.789777</td>\n",
       "      <td>1.000000</td>\n",
       "    </tr>\n",
       "  </tbody>\n",
       "</table>\n",
       "</div>"
      ],
      "text/plain": [
       "               datetime        x1  rainfall (mm)     sound  loudness\n",
       "datetime       1.000000  0.273382       0.273382  0.838586  0.677839\n",
       "x1             0.273382  1.000000       1.000000  0.265357  0.737172\n",
       "rainfall (mm)  0.273382  1.000000       1.000000  0.265357  0.737172\n",
       "sound          0.838586  0.265357       0.265357  1.000000  0.789777\n",
       "loudness       0.677839  0.737172       0.737172  0.789777  1.000000"
      ]
     },
     "execution_count": 29,
     "metadata": {},
     "output_type": "execute_result"
    }
   ],
   "source": [
    "data_merged.corr(method='pearson')"
   ]
  },
  {
   "cell_type": "code",
   "execution_count": 30,
   "id": "dece7e14",
   "metadata": {},
   "outputs": [
    {
     "data": {
      "text/html": [
       "<div>\n",
       "<style scoped>\n",
       "    .dataframe tbody tr th:only-of-type {\n",
       "        vertical-align: middle;\n",
       "    }\n",
       "\n",
       "    .dataframe tbody tr th {\n",
       "        vertical-align: top;\n",
       "    }\n",
       "\n",
       "    .dataframe thead th {\n",
       "        text-align: right;\n",
       "    }\n",
       "</style>\n",
       "<table border=\"1\" class=\"dataframe\">\n",
       "  <thead>\n",
       "    <tr style=\"text-align: right;\">\n",
       "      <th></th>\n",
       "      <th>datetime</th>\n",
       "      <th>x1</th>\n",
       "      <th>rainfall (mm)</th>\n",
       "      <th>sound</th>\n",
       "      <th>loudness</th>\n",
       "    </tr>\n",
       "  </thead>\n",
       "  <tbody>\n",
       "    <tr>\n",
       "      <th>datetime</th>\n",
       "      <td>1.000000</td>\n",
       "      <td>0.264575</td>\n",
       "      <td>0.264575</td>\n",
       "      <td>0.900937</td>\n",
       "      <td>0.540562</td>\n",
       "    </tr>\n",
       "    <tr>\n",
       "      <th>x1</th>\n",
       "      <td>0.264575</td>\n",
       "      <td>1.000000</td>\n",
       "      <td>1.000000</td>\n",
       "      <td>0.152554</td>\n",
       "      <td>0.839047</td>\n",
       "    </tr>\n",
       "    <tr>\n",
       "      <th>rainfall (mm)</th>\n",
       "      <td>0.264575</td>\n",
       "      <td>1.000000</td>\n",
       "      <td>1.000000</td>\n",
       "      <td>0.152554</td>\n",
       "      <td>0.839047</td>\n",
       "    </tr>\n",
       "    <tr>\n",
       "      <th>sound</th>\n",
       "      <td>0.900937</td>\n",
       "      <td>0.152554</td>\n",
       "      <td>0.152554</td>\n",
       "      <td>1.000000</td>\n",
       "      <td>0.472727</td>\n",
       "    </tr>\n",
       "    <tr>\n",
       "      <th>loudness</th>\n",
       "      <td>0.540562</td>\n",
       "      <td>0.839047</td>\n",
       "      <td>0.839047</td>\n",
       "      <td>0.472727</td>\n",
       "      <td>1.000000</td>\n",
       "    </tr>\n",
       "  </tbody>\n",
       "</table>\n",
       "</div>"
      ],
      "text/plain": [
       "               datetime        x1  rainfall (mm)     sound  loudness\n",
       "datetime       1.000000  0.264575       0.264575  0.900937  0.540562\n",
       "x1             0.264575  1.000000       1.000000  0.152554  0.839047\n",
       "rainfall (mm)  0.264575  1.000000       1.000000  0.152554  0.839047\n",
       "sound          0.900937  0.152554       0.152554  1.000000  0.472727\n",
       "loudness       0.540562  0.839047       0.839047  0.472727  1.000000"
      ]
     },
     "execution_count": 30,
     "metadata": {},
     "output_type": "execute_result"
    }
   ],
   "source": [
    "data_merged.corr(method='spearman')"
   ]
  },
  {
   "cell_type": "code",
   "execution_count": 15,
   "id": "a7590ba3",
   "metadata": {},
   "outputs": [],
   "source": [
    "# mech_data.plot(x=\"datetime\", y=\"rainfall (mm)\", kind='scatter', rot=45, figsize=(10,3))"
   ]
  },
  {
   "cell_type": "code",
   "execution_count": 16,
   "id": "b1d09be6",
   "metadata": {},
   "outputs": [],
   "source": [
    "# def normalize_signal(x):\n",
    "#     x /= np.max(np.abs(x),axis=0)\n",
    "#     x -= 0.5\n",
    "#     return x"
   ]
  },
  {
   "cell_type": "code",
   "execution_count": 17,
   "id": "a68970e5",
   "metadata": {},
   "outputs": [],
   "source": [
    "# Fs = 9600 #115200\n",
    "# raw_audio = normalize_signal(raw_audio)\n",
    "# filtered_audio = normalize_signal(filtered_audio)\n",
    "# N = len(raw_audio)\n",
    "# time = np.linspace(0, N/Fs, N)"
   ]
  },
  {
   "cell_type": "code",
   "execution_count": 18,
   "id": "b36d65d5",
   "metadata": {},
   "outputs": [],
   "source": [
    "# plt.figure(figsize=(15,4))\n",
    "# plt.plot(time, raw_audio, label=\"raw_audio\")\n",
    "# plt.plot(time, filtered_audio, label=\"filterd_audio\")\n",
    "# plt.xlabel(\"time\")\n",
    "# plt.ylabel(\"Amplitude\")\n",
    "# plt.legend()"
   ]
  },
  {
   "cell_type": "code",
   "execution_count": 19,
   "id": "f1598aa7",
   "metadata": {},
   "outputs": [],
   "source": [
    "# wav_file_path = join(OUTPUT_DIR, \"test_raw.wav\")\n",
    "# write(wav_file_path, Fs, raw_audio)"
   ]
  },
  {
   "cell_type": "code",
   "execution_count": null,
   "id": "b00b5bdb",
   "metadata": {},
   "outputs": [],
   "source": []
  }
 ],
 "metadata": {
  "kernelspec": {
   "display_name": "venv",
   "language": "python",
   "name": "venv"
  },
  "language_info": {
   "codemirror_mode": {
    "name": "ipython",
    "version": 3
   },
   "file_extension": ".py",
   "mimetype": "text/x-python",
   "name": "python",
   "nbconvert_exporter": "python",
   "pygments_lexer": "ipython3",
   "version": "3.9.1"
  }
 },
 "nbformat": 4,
 "nbformat_minor": 5
}
